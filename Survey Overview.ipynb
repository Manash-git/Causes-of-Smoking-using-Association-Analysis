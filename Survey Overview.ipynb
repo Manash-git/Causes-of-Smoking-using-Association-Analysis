{
 "cells": [
  {
   "cell_type": "markdown",
   "metadata": {},
   "source": [
    "# Survey Overview will be shown here"
   ]
  },
  {
   "cell_type": "code",
   "execution_count": 1,
   "metadata": {},
   "outputs": [],
   "source": [
    "# importing libraries\n",
    "\n",
    "import pandas as pd\n",
    "import matplotlib.pyplot as plt"
   ]
  },
  {
   "cell_type": "code",
   "execution_count": 2,
   "metadata": {},
   "outputs": [],
   "source": [
    "# Loading the dataset\n",
    "\n",
    "data = pd.read_excel('Survey On Addiction to Smoking.xlsx')"
   ]
  },
  {
   "cell_type": "code",
   "execution_count": 3,
   "metadata": {},
   "outputs": [],
   "source": [
    "# row-column view adjust\n",
    "\n",
    "pd.set_option('display.max_column',50)\n",
    "pd.set_option('display.max_rows',20)"
   ]
  },
  {
   "cell_type": "code",
   "execution_count": 4,
   "metadata": {},
   "outputs": [
    {
     "data": {
      "text/html": [
       "<div>\n",
       "<style scoped>\n",
       "    .dataframe tbody tr th:only-of-type {\n",
       "        vertical-align: middle;\n",
       "    }\n",
       "\n",
       "    .dataframe tbody tr th {\n",
       "        vertical-align: top;\n",
       "    }\n",
       "\n",
       "    .dataframe thead th {\n",
       "        text-align: right;\n",
       "    }\n",
       "</style>\n",
       "<table border=\"1\" class=\"dataframe\">\n",
       "  <thead>\n",
       "    <tr style=\"text-align: right;\">\n",
       "      <th></th>\n",
       "      <th>gender?</th>\n",
       "      <th>smoker?</th>\n",
       "      <th>smoke first time age?</th>\n",
       "      <th>academic performance started smoking?</th>\n",
       "      <th>attachment to school started smoking?</th>\n",
       "      <th>self-regulation skills started smoking?</th>\n",
       "      <th>allow watch age-restricted movies?</th>\n",
       "      <th>influnce tobacco advertisements?</th>\n",
       "      <th>favorite ﬁlm star smokes on screen?</th>\n",
       "      <th>smoking scenes in ﬁlm?</th>\n",
       "      <th>watching people smoking?</th>\n",
       "      <th>watching family member is smoking?</th>\n",
       "      <th>starting cigarette smoking?</th>\n",
       "      <th>personality characteristics?</th>\n",
       "      <th>continuing cigarette smoking?</th>\n",
       "      <th>Smoking helps?</th>\n",
       "      <th>do your family know smoking status?</th>\n",
       "      <th>do your family monitor about your smoking habit?</th>\n",
       "      <th>Should student smoke?</th>\n",
       "      <th>any trouble in school?</th>\n",
       "      <th>curiosity about smoking?</th>\n",
       "      <th>intention to smoke in future?</th>\n",
       "      <th>influence other for smoking?</th>\n",
       "      <th>guardians educational level?</th>\n",
       "      <th>educational status when you started?</th>\n",
       "      <th>reasons or influences of start smoking?</th>\n",
       "    </tr>\n",
       "  </thead>\n",
       "  <tbody>\n",
       "    <tr>\n",
       "      <th>0</th>\n",
       "      <td>Male</td>\n",
       "      <td>Yes</td>\n",
       "      <td>16-19</td>\n",
       "      <td>Very Good academic performance</td>\n",
       "      <td>Excellent attachment to school when started</td>\n",
       "      <td>Excellent self-regulation skills while starting</td>\n",
       "      <td>allow watch age-restriction movies</td>\n",
       "      <td>influnce tobacco advertisement</td>\n",
       "      <td>influnce by favorite ﬁlm star smokes on screen</td>\n",
       "      <td>don't influnce by smoking scenes in ﬁlm</td>\n",
       "      <td>influnce by watching people smoking</td>\n",
       "      <td>don't influnce by watching family member is sm...</td>\n",
       "      <td>Friend’s influence, Outsiders, Personal Interest</td>\n",
       "      <td>Impulsivity,Sensation-seeking</td>\n",
       "      <td>Mental depression, Bad family relations, Frien...</td>\n",
       "      <td>Sadness, Depression, Working pressure, To feel...</td>\n",
       "      <td>family don't know smoking status</td>\n",
       "      <td>family don't monitor smoking habit</td>\n",
       "      <td>student shouldn't smoke</td>\n",
       "      <td>have trouble in school</td>\n",
       "      <td>have curiosity about smoking</td>\n",
       "      <td>have intention to smoke in future</td>\n",
       "      <td>want to influnces others for smoking</td>\n",
       "      <td>College/university/tertiary</td>\n",
       "      <td>Secondary</td>\n",
       "      <td>Peer influence, Family influence, To feel matu...</td>\n",
       "    </tr>\n",
       "    <tr>\n",
       "      <th>1</th>\n",
       "      <td>Male</td>\n",
       "      <td>Yes</td>\n",
       "      <td>19-25</td>\n",
       "      <td>Very Good academic performance</td>\n",
       "      <td>Excellent attachment to school when started</td>\n",
       "      <td>Excellent self-regulation skills while starting</td>\n",
       "      <td>allow watch age-restriction movies</td>\n",
       "      <td>not influnce tobacco advertisement</td>\n",
       "      <td>influnce by favorite ﬁlm star smokes on screen</td>\n",
       "      <td>don't influnce by smoking scenes in ﬁlm</td>\n",
       "      <td>don't influnce by watching people smoking</td>\n",
       "      <td>don't influnce by watching family member is sm...</td>\n",
       "      <td>Personal Interest</td>\n",
       "      <td>Family influence</td>\n",
       "      <td>Difficulties in relationship with girlfriend</td>\n",
       "      <td>To feel cool</td>\n",
       "      <td>family don't know smoking status</td>\n",
       "      <td>family monitor smoking habit</td>\n",
       "      <td>student shouldn't smoke</td>\n",
       "      <td>don't have trouble in school</td>\n",
       "      <td>don't have curiosity about smoking</td>\n",
       "      <td>don't have intention to smoke in future</td>\n",
       "      <td>don't influnces others for smoking</td>\n",
       "      <td>College/university/tertiary</td>\n",
       "      <td>Secondary</td>\n",
       "      <td>Watching TV/Cinema, To feel mature</td>\n",
       "    </tr>\n",
       "    <tr>\n",
       "      <th>2</th>\n",
       "      <td>Male</td>\n",
       "      <td>Yes</td>\n",
       "      <td>16-19</td>\n",
       "      <td>Very Good academic performance</td>\n",
       "      <td>Very Good attachment to school when started</td>\n",
       "      <td>Poor self-regulation skills while starting</td>\n",
       "      <td>allow watch age-restriction movies</td>\n",
       "      <td>not influnce tobacco advertisement</td>\n",
       "      <td>don't influnce by favorite ﬁlm star smokes on ...</td>\n",
       "      <td>influnce by smoking scenes in ﬁlm</td>\n",
       "      <td>influnce by watching people smoking</td>\n",
       "      <td>don't influnce by watching family member is sm...</td>\n",
       "      <td>Friend’s influence</td>\n",
       "      <td>Risk-taking propensity, Problematic interperso...</td>\n",
       "      <td>Mental depression, Difficulties in relationshi...</td>\n",
       "      <td>Sadness, Loneliness, Depression, Working pressure</td>\n",
       "      <td>family don't know smoking status</td>\n",
       "      <td>family don't monitor smoking habit</td>\n",
       "      <td>student should smoke</td>\n",
       "      <td>have trouble in school</td>\n",
       "      <td>don't have curiosity about smoking</td>\n",
       "      <td>have intention to smoke in future</td>\n",
       "      <td>don't influnces others for smoking</td>\n",
       "      <td>College/university/tertiary</td>\n",
       "      <td>Secondary</td>\n",
       "      <td>To feel mature</td>\n",
       "    </tr>\n",
       "    <tr>\n",
       "      <th>3</th>\n",
       "      <td>Female</td>\n",
       "      <td>No</td>\n",
       "      <td>19-25</td>\n",
       "      <td>Very Good academic performance</td>\n",
       "      <td>Excellent attachment to school when started</td>\n",
       "      <td>Very Good self-regulation skills while starting</td>\n",
       "      <td>allow watch age-restriction movies</td>\n",
       "      <td>not influnce tobacco advertisement</td>\n",
       "      <td>influnce by favorite ﬁlm star smokes on screen</td>\n",
       "      <td>influnce by smoking scenes in ﬁlm</td>\n",
       "      <td>influnce by watching people smoking</td>\n",
       "      <td>don't influnce by watching family member is sm...</td>\n",
       "      <td>Friend’s influence</td>\n",
       "      <td>Self esteem</td>\n",
       "      <td>Mental depression, Friend Circle</td>\n",
       "      <td>Loneliness</td>\n",
       "      <td>family don't know smoking status</td>\n",
       "      <td>family monitor smoking habit</td>\n",
       "      <td>student shouldn't smoke</td>\n",
       "      <td>don't have trouble in school</td>\n",
       "      <td>don't have curiosity about smoking</td>\n",
       "      <td>don't have intention to smoke in future</td>\n",
       "      <td>don't influnces others for smoking</td>\n",
       "      <td>College/university/tertiary</td>\n",
       "      <td>Secondary</td>\n",
       "      <td>Watching TV/Cinema, To follow senior in locality</td>\n",
       "    </tr>\n",
       "    <tr>\n",
       "      <th>4</th>\n",
       "      <td>Male</td>\n",
       "      <td>No</td>\n",
       "      <td>19-25</td>\n",
       "      <td>Very Good academic performance</td>\n",
       "      <td>Very Good attachment to school when started</td>\n",
       "      <td>Excellent self-regulation skills while starting</td>\n",
       "      <td>don't allow watch age-restriction movies</td>\n",
       "      <td>not influnce tobacco advertisement</td>\n",
       "      <td>don't influnce by favorite ﬁlm star smokes on ...</td>\n",
       "      <td>don't influnce by smoking scenes in ﬁlm</td>\n",
       "      <td>don't influnce by watching people smoking</td>\n",
       "      <td>don't influnce by watching family member is sm...</td>\n",
       "      <td>Friend’s influence</td>\n",
       "      <td>Impulsivity,Sensation-seeking, Problematic int...</td>\n",
       "      <td>Difficulties in relationship with girlfriend, ...</td>\n",
       "      <td>Sadness, Loneliness, Depression, Working pressure</td>\n",
       "      <td>family don't know smoking status</td>\n",
       "      <td>family don't monitor smoking habit</td>\n",
       "      <td>student shouldn't smoke</td>\n",
       "      <td>don't have trouble in school</td>\n",
       "      <td>have curiosity about smoking</td>\n",
       "      <td>don't have intention to smoke in future</td>\n",
       "      <td>don't influnces others for smoking</td>\n",
       "      <td>College/university/tertiary</td>\n",
       "      <td>None of above</td>\n",
       "      <td>To feel mature, To follow senior in locality, ...</td>\n",
       "    </tr>\n",
       "  </tbody>\n",
       "</table>\n",
       "</div>"
      ],
      "text/plain": [
       "  gender? smoker? smoke first time age? academic performance started smoking?  \\\n",
       "0    Male     Yes                 16-19        Very Good academic performance   \n",
       "1    Male     Yes                 19-25        Very Good academic performance   \n",
       "2    Male     Yes                 16-19        Very Good academic performance   \n",
       "3  Female      No                 19-25        Very Good academic performance   \n",
       "4    Male      No                 19-25        Very Good academic performance   \n",
       "\n",
       "         attachment to school started smoking?  \\\n",
       "0  Excellent attachment to school when started   \n",
       "1  Excellent attachment to school when started   \n",
       "2  Very Good attachment to school when started   \n",
       "3  Excellent attachment to school when started   \n",
       "4  Very Good attachment to school when started   \n",
       "\n",
       "           self-regulation skills started smoking?  \\\n",
       "0  Excellent self-regulation skills while starting   \n",
       "1  Excellent self-regulation skills while starting   \n",
       "2       Poor self-regulation skills while starting   \n",
       "3  Very Good self-regulation skills while starting   \n",
       "4  Excellent self-regulation skills while starting   \n",
       "\n",
       "         allow watch age-restricted movies?  \\\n",
       "0        allow watch age-restriction movies   \n",
       "1        allow watch age-restriction movies   \n",
       "2        allow watch age-restriction movies   \n",
       "3        allow watch age-restriction movies   \n",
       "4  don't allow watch age-restriction movies   \n",
       "\n",
       "     influnce tobacco advertisements?  \\\n",
       "0      influnce tobacco advertisement   \n",
       "1  not influnce tobacco advertisement   \n",
       "2  not influnce tobacco advertisement   \n",
       "3  not influnce tobacco advertisement   \n",
       "4  not influnce tobacco advertisement   \n",
       "\n",
       "                 favorite ﬁlm star smokes on screen?  \\\n",
       "0     influnce by favorite ﬁlm star smokes on screen   \n",
       "1     influnce by favorite ﬁlm star smokes on screen   \n",
       "2  don't influnce by favorite ﬁlm star smokes on ...   \n",
       "3     influnce by favorite ﬁlm star smokes on screen   \n",
       "4  don't influnce by favorite ﬁlm star smokes on ...   \n",
       "\n",
       "                    smoking scenes in ﬁlm?  \\\n",
       "0  don't influnce by smoking scenes in ﬁlm   \n",
       "1  don't influnce by smoking scenes in ﬁlm   \n",
       "2        influnce by smoking scenes in ﬁlm   \n",
       "3        influnce by smoking scenes in ﬁlm   \n",
       "4  don't influnce by smoking scenes in ﬁlm   \n",
       "\n",
       "                    watching people smoking?  \\\n",
       "0        influnce by watching people smoking   \n",
       "1  don't influnce by watching people smoking   \n",
       "2        influnce by watching people smoking   \n",
       "3        influnce by watching people smoking   \n",
       "4  don't influnce by watching people smoking   \n",
       "\n",
       "                  watching family member is smoking?  \\\n",
       "0  don't influnce by watching family member is sm...   \n",
       "1  don't influnce by watching family member is sm...   \n",
       "2  don't influnce by watching family member is sm...   \n",
       "3  don't influnce by watching family member is sm...   \n",
       "4  don't influnce by watching family member is sm...   \n",
       "\n",
       "                        starting cigarette smoking?  \\\n",
       "0  Friend’s influence, Outsiders, Personal Interest   \n",
       "1                                 Personal Interest   \n",
       "2                                Friend’s influence   \n",
       "3                                Friend’s influence   \n",
       "4                                Friend’s influence   \n",
       "\n",
       "                        personality characteristics?  \\\n",
       "0                      Impulsivity,Sensation-seeking   \n",
       "1                                   Family influence   \n",
       "2  Risk-taking propensity, Problematic interperso...   \n",
       "3                                        Self esteem   \n",
       "4  Impulsivity,Sensation-seeking, Problematic int...   \n",
       "\n",
       "                       continuing cigarette smoking?  \\\n",
       "0  Mental depression, Bad family relations, Frien...   \n",
       "1       Difficulties in relationship with girlfriend   \n",
       "2  Mental depression, Difficulties in relationshi...   \n",
       "3                   Mental depression, Friend Circle   \n",
       "4  Difficulties in relationship with girlfriend, ...   \n",
       "\n",
       "                                      Smoking helps?  \\\n",
       "0  Sadness, Depression, Working pressure, To feel...   \n",
       "1                                       To feel cool   \n",
       "2  Sadness, Loneliness, Depression, Working pressure   \n",
       "3                                         Loneliness   \n",
       "4  Sadness, Loneliness, Depression, Working pressure   \n",
       "\n",
       "  do your family know smoking status?  \\\n",
       "0    family don't know smoking status   \n",
       "1    family don't know smoking status   \n",
       "2    family don't know smoking status   \n",
       "3    family don't know smoking status   \n",
       "4    family don't know smoking status   \n",
       "\n",
       "  do your family monitor about your smoking habit?    Should student smoke?  \\\n",
       "0               family don't monitor smoking habit  student shouldn't smoke   \n",
       "1                     family monitor smoking habit  student shouldn't smoke   \n",
       "2               family don't monitor smoking habit     student should smoke   \n",
       "3                     family monitor smoking habit  student shouldn't smoke   \n",
       "4               family don't monitor smoking habit  student shouldn't smoke   \n",
       "\n",
       "         any trouble in school?            curiosity about smoking?  \\\n",
       "0        have trouble in school        have curiosity about smoking   \n",
       "1  don't have trouble in school  don't have curiosity about smoking   \n",
       "2        have trouble in school  don't have curiosity about smoking   \n",
       "3  don't have trouble in school  don't have curiosity about smoking   \n",
       "4  don't have trouble in school        have curiosity about smoking   \n",
       "\n",
       "             intention to smoke in future?  \\\n",
       "0        have intention to smoke in future   \n",
       "1  don't have intention to smoke in future   \n",
       "2        have intention to smoke in future   \n",
       "3  don't have intention to smoke in future   \n",
       "4  don't have intention to smoke in future   \n",
       "\n",
       "           influence other for smoking? guardians educational level?  \\\n",
       "0  want to influnces others for smoking  College/university/tertiary   \n",
       "1    don't influnces others for smoking  College/university/tertiary   \n",
       "2    don't influnces others for smoking  College/university/tertiary   \n",
       "3    don't influnces others for smoking  College/university/tertiary   \n",
       "4    don't influnces others for smoking  College/university/tertiary   \n",
       "\n",
       "  educational status when you started?  \\\n",
       "0                            Secondary   \n",
       "1                            Secondary   \n",
       "2                            Secondary   \n",
       "3                            Secondary   \n",
       "4                        None of above   \n",
       "\n",
       "             reasons or influences of start smoking?  \n",
       "0  Peer influence, Family influence, To feel matu...  \n",
       "1                 Watching TV/Cinema, To feel mature  \n",
       "2                                     To feel mature  \n",
       "3   Watching TV/Cinema, To follow senior in locality  \n",
       "4  To feel mature, To follow senior in locality, ...  "
      ]
     },
     "execution_count": 4,
     "metadata": {},
     "output_type": "execute_result"
    }
   ],
   "source": [
    "data.head()"
   ]
  },
  {
   "cell_type": "code",
   "execution_count": 5,
   "metadata": {},
   "outputs": [
    {
     "data": {
      "text/plain": [
       "(1011, 26)"
      ]
     },
     "execution_count": 5,
     "metadata": {},
     "output_type": "execute_result"
    }
   ],
   "source": [
    "data.shape"
   ]
  },
  {
   "cell_type": "markdown",
   "metadata": {},
   "source": [
    " ## => Our dataset has total 1011 rows or data and has 26 columns"
   ]
  },
  {
   "cell_type": "code",
   "execution_count": 6,
   "metadata": {},
   "outputs": [
    {
     "name": "stdout",
     "output_type": "stream",
     "text": [
      "====>  gender?\n",
      "====>  smoker?\n",
      "====>  smoke first time age?\n",
      "====>  academic performance started smoking?\n",
      "====>  attachment to school started smoking?\n",
      "====>  self-regulation skills started smoking?\n",
      "====>  allow watch age-restricted movies?\n",
      "====>  influnce tobacco advertisements?\n",
      "====>  favorite ﬁlm star smokes on screen?\n",
      "====>  smoking scenes in ﬁlm?\n",
      "====>  watching people smoking?\n",
      "====>  watching family member is smoking?\n",
      "====>  starting cigarette smoking?\n",
      "====>  personality characteristics?\n",
      "====>  continuing cigarette smoking?\n",
      "====>  Smoking helps?\n",
      "====>  do your family know smoking status?\n",
      "====>  do your family monitor about your smoking habit?\n",
      "====>  Should student smoke?\n",
      "====>  any trouble in school?\n",
      "====>  curiosity about smoking?\n",
      "====>  intention to smoke in future?\n",
      "====>  influence other for smoking?\n",
      "====>  guardians educational level?\n",
      "====>  educational status when you started?\n",
      "====>  reasons or influences of start smoking?\n"
     ]
    }
   ],
   "source": [
    "#  All columns header\n",
    "\n",
    "for i in data.columns:\n",
    "    print('====> ',i)"
   ]
  },
  {
   "cell_type": "markdown",
   "metadata": {},
   "source": [
    "# Primary Data Pre-Processsing "
   ]
  },
  {
   "cell_type": "code",
   "execution_count": 7,
   "metadata": {},
   "outputs": [],
   "source": [
    "smoker= data[data['smoker?']=='Yes']\n",
    "non_smoker= data[data['smoker?']=='No']"
   ]
  },
  {
   "cell_type": "code",
   "execution_count": 8,
   "metadata": {},
   "outputs": [
    {
     "name": "stdout",
     "output_type": "stream",
     "text": [
      "1011 482 527\n"
     ]
    }
   ],
   "source": [
    "print(len(data),len(smoker), len(non_smoker))"
   ]
  },
  {
   "cell_type": "markdown",
   "metadata": {},
   "source": [
    "# -  Whats % of Male/Female entry ? "
   ]
  },
  {
   "cell_type": "code",
   "execution_count": 9,
   "metadata": {},
   "outputs": [
    {
     "data": {
      "text/plain": [
       "Male      766\n",
       "Female    243\n",
       "Name: gender?, dtype: int64"
      ]
     },
     "execution_count": 9,
     "metadata": {},
     "output_type": "execute_result"
    }
   ],
   "source": [
    "data['gender?'].value_counts()"
   ]
  },
  {
   "cell_type": "code",
   "execution_count": 10,
   "metadata": {},
   "outputs": [
    {
     "name": "stdout",
     "output_type": "stream",
     "text": [
      "Male:  75.76656775469831\n",
      "Female:  24.03560830860534\n"
     ]
    }
   ],
   "source": [
    "print('Male: ', (766*100)/1011)\n",
    "print('Female: ', (243*100)/1011)"
   ]
  },
  {
   "cell_type": "code",
   "execution_count": 11,
   "metadata": {},
   "outputs": [
    {
     "data": {
      "image/png": "[encoded data removed]",
      "text/plain": [
       "<Figure size 720x504 with 1 Axes>"
      ]
     },
     "metadata": {
      "needs_background": "light"
     },
     "output_type": "display_data"
    }
   ],
   "source": [
    "x= ['Male - 75.76 %','Female- 24.03%']\n",
    "y= [766,243]\n",
    "\n",
    "fig = plt.figure(figsize =(10, 7)) \n",
    "plt.title('Male vs Female')\n",
    "plt.bar(x,y,width=.2, animated= True)\n",
    "plt.xlabel('Gender',fontweight ='bold')\n",
    "plt.ylabel(\"No of People\",fontweight ='bold')\n",
    "plt.show()"
   ]
  },
  {
   "cell_type": "markdown",
   "metadata": {},
   "source": [
    "## - Whats % of Smoker/ Non-Smoker entry ?"
   ]
  },
  {
   "cell_type": "code",
   "execution_count": 12,
   "metadata": {},
   "outputs": [
    {
     "name": "stdout",
     "output_type": "stream",
     "text": [
      "1011 482 527\n"
     ]
    }
   ],
   "source": [
    "print(len(data),len(smoker), len(non_smoker))"
   ]
  },
  {
   "cell_type": "code",
   "execution_count": 13,
   "metadata": {
    "scrolled": true
   },
   "outputs": [
    {
     "name": "stdout",
     "output_type": "stream",
     "text": [
      "Smoker:  47.675568743818005\n",
      "Non-Smoker:  52.12660731948566\n"
     ]
    },
    {
     "data": {
      "image/png": "[encoded data removed]",
      "text/plain": [
       "<Figure size 720x504 with 1 Axes>"
      ]
     },
     "metadata": {
      "needs_background": "light"
     },
     "output_type": "display_data"
    }
   ],
   "source": [
    "print('Smoker: ', (482*100)/1011)\n",
    "print('Non-Smoker: ', (527*100)/1011)\n",
    "\n",
    "x= ['Smoker','Non-Smoker']\n",
    "y= [482,527]\n",
    "\n",
    "fig = plt.figure(figsize =(10, 7)) \n",
    "plt.title('Smoker vs Non-smoker')\n",
    "plt.bar(x,y,width=.2, animated= True, color= 'maroon')\n",
    "plt.xlabel('Type',fontweight ='bold')\n",
    "plt.ylabel(\"No of People\",fontweight ='bold')\n",
    "plt.show()"
   ]
  },
  {
   "cell_type": "markdown",
   "metadata": {},
   "source": [
    "## - Does student should smoke?"
   ]
  },
  {
   "cell_type": "code",
   "execution_count": 14,
   "metadata": {},
   "outputs": [
    {
     "data": {
      "text/plain": [
       "student shouldn't smoke    776\n",
       "student should smoke       233\n",
       "Name: Should student smoke?, dtype: int64"
      ]
     },
     "execution_count": 14,
     "metadata": {},
     "output_type": "execute_result"
    }
   ],
   "source": [
    "data['Should student smoke?'].value_counts()"
   ]
  },
  {
   "cell_type": "code",
   "execution_count": 15,
   "metadata": {},
   "outputs": [
    {
     "data": {
      "text/plain": [
       "student shouldn't smoke    335\n",
       "student should smoke       147\n",
       "Name: Should student smoke?, dtype: int64"
      ]
     },
     "execution_count": 15,
     "metadata": {},
     "output_type": "execute_result"
    }
   ],
   "source": [
    "smoker['Should student smoke?'].value_counts()\n"
   ]
  },
  {
   "cell_type": "code",
   "execution_count": 16,
   "metadata": {},
   "outputs": [
    {
     "data": {
      "image/png": "[encoded data removed]",
      "text/plain": [
       "<Figure size 720x504 with 1 Axes>"
      ]
     },
     "metadata": {
      "needs_background": "light"
     },
     "output_type": "display_data"
    }
   ],
   "source": [
    "x1= ['Yes','No']\n",
    "y1= [233,776]\n",
    "\n",
    "x2= ['Yes','No']\n",
    "y2= [147,335]\n",
    "\n",
    "\n",
    "fig = plt.figure(figsize =(10, 7)) \n",
    "plt.title('Should student smoke?')\n",
    "# plot all\n",
    "plt.bar(x1,y1,width=.2, color= 'm', label= 'People')\n",
    "# plot smoker\n",
    "plt.bar(x2,y2,width=.2, color= 'c',label= 'Smoker')\n",
    "\n",
    "#label\n",
    "plt.legend([\"People\",\"Smoker\"])\n",
    "plt.xlabel('Type',fontweight ='bold')\n",
    "plt.ylabel(\"No of People\",fontweight ='bold')\n",
    "plt.show()"
   ]
  },
  {
   "cell_type": "markdown",
   "metadata": {},
   "source": [
    "## - In which age people started smoking?"
   ]
  },
  {
   "cell_type": "code",
   "execution_count": 17,
   "metadata": {},
   "outputs": [
    {
     "data": {
      "text/plain": [
       "19-25      208\n",
       "16-19      193\n",
       "13-16       72\n",
       "25 Plus      9\n",
       "Name: smoke first time age?, dtype: int64"
      ]
     },
     "execution_count": 17,
     "metadata": {},
     "output_type": "execute_result"
    }
   ],
   "source": [
    "smoker['smoke first time age?'].value_counts()"
   ]
  },
  {
   "cell_type": "code",
   "execution_count": 18,
   "metadata": {},
   "outputs": [
    {
     "data": {
      "text/plain": [
       "Text(0.5, 1.0, 'First Started smoking')"
      ]
     },
     "execution_count": 18,
     "metadata": {},
     "output_type": "execute_result"
    },
    {
     "data": {
      "image/png": "[encoded data removed]",
      "text/plain": [
       "<Figure size 720x504 with 1 Axes>"
      ]
     },
     "metadata": {
      "needs_background": "light"
     },
     "output_type": "display_data"
    }
   ],
   "source": [
    "\n",
    "fig = plt.figure(figsize =(10, 7)) \n",
    "x = ['13-16','16-19','19-25','25 Plus']\n",
    "h= [72,193,208,9]\n",
    "w= [.2,.5,.7]\n",
    "b= [50,70,100]\n",
    "c=[ 'maroon', 'green', 'darkblue','grey']\n",
    "plt.barh(x,h, .5, color=c)\n",
    "plt.ylabel('Age Range')\n",
    "plt.xlabel(\"No of People\")\n",
    "\n",
    "plt.title('First Started smoking')"
   ]
  },
  {
   "cell_type": "markdown",
   "metadata": {},
   "source": [
    "## -How many smokers have depression ?"
   ]
  },
  {
   "cell_type": "code",
   "execution_count": 19,
   "metadata": {},
   "outputs": [
    {
     "data": {
      "text/plain": [
       "Depression                                                                     67\n",
       "To feel cool                                                                   49\n",
       "Working pressure                                                               37\n",
       "Sadness, Loneliness, Boringness, Depression, Working pressure, To feel cool    37\n",
       "Nothing                                                                        29\n",
       "                                                                               ..\n",
       "Loneliness, Boringness                                                          1\n",
       "Sadness, Boringness                                                             1\n",
       "Working pressure, Nothing                                                       1\n",
       "Loneliness, Working pressure                                                    1\n",
       "Sadness, Boringness, Depression, Working pressure                               1\n",
       "Name: Smoking helps?, Length: 61, dtype: int64"
      ]
     },
     "execution_count": 19,
     "metadata": {},
     "output_type": "execute_result"
    }
   ],
   "source": [
    "smoker['Smoking helps?'].value_counts()"
   ]
  },
  {
   "cell_type": "code",
   "execution_count": 20,
   "metadata": {},
   "outputs": [
    {
     "data": {
      "text/plain": [
       "233"
      ]
     },
     "execution_count": 20,
     "metadata": {},
     "output_type": "execute_result"
    }
   ],
   "source": [
    "dep = smoker['Smoking helps?'].str.count('Depression').sum()\n",
    "dep"
   ]
  },
  {
   "cell_type": "code",
   "execution_count": 21,
   "metadata": {},
   "outputs": [
    {
     "name": "stdout",
     "output_type": "stream",
     "text": [
      "482\n",
      "241.0\n"
     ]
    }
   ],
   "source": [
    "# Smoker:  47.675568743818005 %\n",
    "# Non-Smoker:  52.12660731948566 %\n",
    "print(len(smoker))\n",
    "print(482/2)"
   ]
  },
  {
   "cell_type": "code",
   "execution_count": 22,
   "metadata": {},
   "outputs": [
    {
     "data": {
      "text/plain": [
       "(-1.1124242012150019,\n",
       " 1.1702388735745914,\n",
       " -1.112444469077167,\n",
       " 1.1769607234657042)"
      ]
     },
     "execution_count": 22,
     "metadata": {},
     "output_type": "execute_result"
    },
    {
     "data": {
      "text/plain": [
       "<Figure size 720x504 with 0 Axes>"
      ]
     },
     "metadata": {},
     "output_type": "display_data"
    },
    {
     "data": {
      "image/png": "[encoded data removed]",
      "text/plain": [
       "<Figure size 432x288 with 1 Axes>"
      ]
     },
     "metadata": {},
     "output_type": "display_data"
    }
   ],
   "source": [
    "# Pie chart, where the slices will be ordered and plotted counter-clockwise:\n",
    "labels = 'Non-smoker', 'Not-Depressed', 'Depressed'\n",
    "sizes = [53, 23, 24]\n",
    "explode = (0, 0,0.1)  \n",
    "colors=[ 'green','lightskyblue', \"maroon\" ]\n",
    "\n",
    "fig = plt.figure(figsize =(10, 7)) \n",
    "fig1, ax1 = plt.subplots()\n",
    "ax1.pie(sizes, explode=explode, labels=labels, autopct='%1.1f%%',\n",
    "        shadow=True, startangle=90, colors=colors)\n",
    "ax1.axis('equal')  # Equal aspect ratio ensures that pie is drawn as a circle.\n",
    "\n"
   ]
  },
  {
   "cell_type": "markdown",
   "metadata": {},
   "source": [
    "## - Personal Chracteristics of people ?"
   ]
  },
  {
   "cell_type": "code",
   "execution_count": null,
   "metadata": {},
   "outputs": [],
   "source": []
  },
  {
   "cell_type": "code",
   "execution_count": 23,
   "metadata": {},
   "outputs": [
    {
     "name": "stdout",
     "output_type": "stream",
     "text": [
      "482\n"
     ]
    },
    {
     "data": {
      "text/plain": [
       "Secondary               276\n",
       "University              164\n",
       "Primary                  23\n",
       "Illiterate Secondary     11\n",
       "Literate                  8\n",
       "Name: educational status when you started?, dtype: int64"
      ]
     },
     "execution_count": 23,
     "metadata": {},
     "output_type": "execute_result"
    }
   ],
   "source": [
    "print(len(smoker))\n",
    "smoker['educational status when you started?'].value_counts()"
   ]
  },
  {
   "cell_type": "code",
   "execution_count": 24,
   "metadata": {},
   "outputs": [
    {
     "name": "stdout",
     "output_type": "stream",
     "text": [
      "57.261410788381745 34.024896265560166 4.771784232365145 3.9419087136929463\n"
     ]
    }
   ],
   "source": [
    "# calculating percentage\n",
    "\n",
    "s= (276*100)/482\n",
    "u =(164*100)/482\n",
    "p= (23*100)/482\n",
    "others = (19*100)/482\n",
    "print(s,u,p,others)"
   ]
  },
  {
   "cell_type": "code",
   "execution_count": 25,
   "metadata": {},
   "outputs": [
    {
     "data": {
      "text/plain": [
       "(-1.2656633255716199,\n",
       " 1.1168171819226733,\n",
       " -1.252756066479175,\n",
       " 1.1082264861120195)"
      ]
     },
     "execution_count": 25,
     "metadata": {},
     "output_type": "execute_result"
    },
    {
     "data": {
      "text/plain": [
       "<Figure size 1440x1080 with 0 Axes>"
      ]
     },
     "metadata": {},
     "output_type": "display_data"
    },
    {
     "data": {
      "image/png": "[encoded data removed]",
      "text/plain": [
       "<Figure size 432x288 with 1 Axes>"
      ]
     },
     "metadata": {},
     "output_type": "display_data"
    }
   ],
   "source": [
    "# Pie chart, where the slices will be ordered and plotted counter-clockwise:\n",
    "labels = 'Prmary', 'Seconday', 'University','Others'\n",
    "sizes = [s,u,p,others]\n",
    "explode = (0.2, 0,0,0)  \n",
    "colors=[\"maroon\" ,'green','gold','blue' ]\n",
    "\n",
    "fig = plt.figure(figsize =(20, 15)) \n",
    "fig1, ax1 = plt.subplots()\n",
    "ax1.pie(sizes, explode=explode, labels=labels, autopct='%1.1f%%',\n",
    "        shadow=True, startangle=120, colors=colors)\n",
    "ax1.axis('equal')  # Equal aspect ratio ensures that pie is drawn as a circle.\n",
    "\n"
   ]
  }
 ],
 "metadata": {
  "kernelspec": {
   "display_name": "Python 3",
   "language": "python",
   "name": "python3"
  },
  "language_info": {
   "codemirror_mode": {
    "name": "ipython",
    "version": 3
   },
   "file_extension": ".py",
   "mimetype": "text/x-python",
   "name": "python",
   "nbconvert_exporter": "python",
   "pygments_lexer": "ipython3",
   "version": "3.8.2"
  }
 },
 "nbformat": 4,
 "nbformat_minor": 4
}
